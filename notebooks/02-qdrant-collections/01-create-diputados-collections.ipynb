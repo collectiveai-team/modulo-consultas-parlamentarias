{
 "cells": [
  {
   "cell_type": "code",
   "execution_count": null,
   "id": "06f5183d",
   "metadata": {},
   "outputs": [],
   "source": [
    "import pandas as pd\n",
    "import sqlite3\n",
    "\n",
    "from rich.pretty import pprint\n",
    "\n",
    "from cparla.retriever import Retriever\n",
    "from cparla.retriever.retriever import TextChunk"
   ]
  },
  {
   "cell_type": "code",
   "execution_count": null,
   "id": "45a50faf",
   "metadata": {},
   "outputs": [],
   "source": [
    "from functools import lru_cache\n",
    "from langchain_openai import OpenAIEmbeddings\n",
    "\n",
    "\n",
    "@lru_cache()\n",
    "def get_openai_embeddings(\n",
    "    model: str = \"text-embedding-3-large\",\n",
    "    dimensions: int = 256,\n",
    ") -> OpenAIEmbeddings:\n",
    "    return OpenAIEmbeddings(\n",
    "        model=model,\n",
    "        dimensions=dimensions,\n",
    "    )\n",
    "\n",
    "\n",
    "dense_embeddings = get_openai_embeddings()\n",
    "dense_embeddings"
   ]
  },
  {
   "cell_type": "code",
   "execution_count": null,
   "id": "2f4ab040",
   "metadata": {},
   "outputs": [],
   "source": [
    "retriever = Retriever(dense_embeddings=dense_embeddings)"
   ]
  },
  {
   "cell_type": "code",
   "execution_count": null,
   "id": "9c88444b",
   "metadata": {},
   "outputs": [],
   "source": [
    "DB_PATH = \"/resources/db/data.db\"\n",
    "conn = sqlite3.connect(DB_PATH)"
   ]
  },
  {
   "cell_type": "markdown",
   "id": "f45bf07b",
   "metadata": {},
   "source": [
    "## Legisladores - Diputados\n"
   ]
  },
  {
   "cell_type": "code",
   "execution_count": null,
   "id": "ff30730e",
   "metadata": {},
   "outputs": [],
   "source": [
    "legisladores_diputados = pd.read_sql(\"SELECT * FROM legisladores_diputados\", conn)\n",
    "legisladores_diputados.head()"
   ]
  },
  {
   "cell_type": "code",
   "execution_count": null,
   "id": "2e7bdf85",
   "metadata": {},
   "outputs": [],
   "source": [
    "legisladores_diputados.info()"
   ]
  },
  {
   "cell_type": "code",
   "execution_count": null,
   "id": "d06bc154",
   "metadata": {},
   "outputs": [],
   "source": [
    "row = legisladores_diputados.iloc[-1]\n",
    "pprint(row)"
   ]
  },
  {
   "cell_type": "code",
   "execution_count": null,
   "id": "aa48e514",
   "metadata": {},
   "outputs": [],
   "source": [
    "def row_to_text_chunk(row: pd.Series, text_column: str) -> TextChunk:\n",
    "    metadata = row.to_dict()\n",
    "    text = metadata.pop(text_column)\n",
    "\n",
    "    return TextChunk(text=text, metadata=metadata)"
   ]
  },
  {
   "cell_type": "code",
   "execution_count": null,
   "id": "7ec91fad",
   "metadata": {},
   "outputs": [],
   "source": [
    "pprint(row_to_text_chunk(row, text_column=\"nombre\"))"
   ]
  },
  {
   "cell_type": "code",
   "execution_count": null,
   "id": "1b92f8ab",
   "metadata": {},
   "outputs": [],
   "source": [
    "documents = [\n",
    "    row_to_text_chunk(row, text_column=\"nombre\")\n",
    "    for _, row in legisladores_diputados.iterrows()\n",
    "]\n",
    "\n",
    "pprint(documents[-10:])"
   ]
  },
  {
   "cell_type": "code",
   "execution_count": null,
   "id": "8cb44c94",
   "metadata": {},
   "outputs": [],
   "source": [
    "collection_name = \"legisladores-diputados\"\n",
    "\n",
    "retriever.create_collection(collection_name=collection_name)\n",
    "retriever.insert_text_chunks(\n",
    "    collection_name=collection_name,\n",
    "    text_chunks=documents,\n",
    ")"
   ]
  },
  {
   "cell_type": "code",
   "execution_count": null,
   "id": "6fe4c621",
   "metadata": {},
   "outputs": [],
   "source": [
    "results = await retriever.hybrid_search(\n",
    "    collection_name=collection_name,\n",
    "    query=\"Quiero saber cuáles fueron los votos de Myriam Bregman\",\n",
    "    k=3,\n",
    ")\n",
    "\n",
    "pprint(results)"
   ]
  },
  {
   "cell_type": "markdown",
   "id": "46e71ea1",
   "metadata": {},
   "source": [
    "## Asuntos - Diputados\n"
   ]
  },
  {
   "cell_type": "code",
   "execution_count": null,
   "id": "8e1447e0",
   "metadata": {},
   "outputs": [],
   "source": [
    "asuntos_diputados = pd.read_sql(\"SELECT * FROM asuntos_diputados\", conn)\n",
    "asuntos_diputados.head()"
   ]
  },
  {
   "cell_type": "code",
   "execution_count": null,
   "id": "535144f2",
   "metadata": {},
   "outputs": [],
   "source": [
    "asuntos_diputados.info()"
   ]
  },
  {
   "cell_type": "code",
   "execution_count": null,
   "id": "2e63df69",
   "metadata": {},
   "outputs": [],
   "source": [
    "def row_to_text_chunk_asuntos(row: pd.Series, text_columns: list[str]) -> TextChunk:\n",
    "    text = \" - \".join([row[col] or \"\" for col in text_columns])\n",
    "    metadata = row.to_dict()\n",
    "\n",
    "    return TextChunk(text=text, metadata=metadata)"
   ]
  },
  {
   "cell_type": "code",
   "execution_count": null,
   "id": "36d75f47",
   "metadata": {},
   "outputs": [],
   "source": [
    "row_to_text_chunk_asuntos(\n",
    "    asuntos_diputados.iloc[-1], text_columns=[\"asunto\", \"titulo\"]\n",
    ").model_dump()"
   ]
  },
  {
   "cell_type": "code",
   "execution_count": null,
   "id": "3c743371",
   "metadata": {},
   "outputs": [],
   "source": [
    "documents = [\n",
    "    row_to_text_chunk_asuntos(row, text_columns=[\"asunto\", \"titulo\"])\n",
    "    for _, row in asuntos_diputados.iterrows()\n",
    "]\n",
    "\n",
    "pprint(documents[-10:])"
   ]
  },
  {
   "cell_type": "code",
   "execution_count": null,
   "id": "21a8e70c",
   "metadata": {},
   "outputs": [],
   "source": [
    "collection_name = \"asuntos-diputados\"\n",
    "\n",
    "retriever.create_collection(collection_name=collection_name)\n",
    "retriever.insert_text_chunks(\n",
    "    collection_name=collection_name,\n",
    "    text_chunks=documents,\n",
    ")"
   ]
  },
  {
   "cell_type": "code",
   "execution_count": null,
   "id": "8076647d",
   "metadata": {},
   "outputs": [],
   "source": [
    "results = await retriever.hybrid_search(\n",
    "    collection_name=collection_name,\n",
    "    query=\"Traeme información sobre 'Ficha Limpia'\",\n",
    "    k=3,\n",
    ")\n",
    "\n",
    "pprint(results)"
   ]
  },
  {
   "cell_type": "code",
   "execution_count": null,
   "id": "b02f2ce5",
   "metadata": {},
   "outputs": [],
   "source": []
  }
 ],
 "metadata": {
  "kernelspec": {
   "display_name": "Python 3",
   "language": "python",
   "name": "python3"
  },
  "language_info": {
   "codemirror_mode": {
    "name": "ipython",
    "version": 3
   },
   "file_extension": ".py",
   "mimetype": "text/x-python",
   "name": "python",
   "nbconvert_exporter": "python",
   "pygments_lexer": "ipython3",
   "version": "3.12.3"
  }
 },
 "nbformat": 4,
 "nbformat_minor": 5
}