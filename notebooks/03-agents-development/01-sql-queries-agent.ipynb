{
 "cells": [
  {
   "cell_type": "code",
   "execution_count": null,
   "id": "ef1a9850",
   "metadata": {},
   "outputs": [],
   "source": [
    "import sqlite3\n",
    "import pandas as pd"
   ]
  },
  {
   "cell_type": "code",
   "execution_count": null,
   "id": "db181b77",
   "metadata": {},
   "outputs": [],
   "source": [
    "DB_PATH = \"/resources/db/data.db\""
   ]
  },
  {
   "cell_type": "code",
   "execution_count": null,
   "id": "d1e54035",
   "metadata": {},
   "outputs": [],
   "source": [
    "def query_data(sql: str, database: str = DB_PATH) -> list[dict]:\n",
    "    \"\"\"\n",
    "    Executes a SQL query on the specified SQLite database and returns the results as a list of dictionaries.\n",
    "\n",
    "    Args:\n",
    "        sql (str): The SQL query to execute.\n",
    "        database (str): The path to the SQLite database file.\n",
    "\n",
    "    Returns:\n",
    "        list[dict]: A list of dictionaries representing the query results, where each dictionary corresponds to a row.\n",
    "                    If an error occurs, returns a string with the error message.\n",
    "    \"\"\"\n",
    "    conn = sqlite3.connect(database)\n",
    "\n",
    "    try:\n",
    "        result = conn.execute(sql).fetchall()\n",
    "        conn.commit()\n",
    "        # Get column names from cursor description\n",
    "        columns = [desc[0] for desc in conn.execute(sql).description]\n",
    "        # Convert rows to list of dicts\n",
    "        return [dict(zip(columns, row)) for row in result]\n",
    "\n",
    "    except Exception as e:\n",
    "        return f\"Error: {str(e)}\"\n",
    "    finally:\n",
    "        conn.close()"
   ]
  },
  {
   "cell_type": "code",
   "execution_count": null,
   "id": "32c7a009",
   "metadata": {},
   "outputs": [],
   "source": [
    "query = \"SELECT * FROM bloques_diputados\""
   ]
  },
  {
   "cell_type": "code",
   "execution_count": null,
   "id": "1f0d4d25",
   "metadata": {},
   "outputs": [],
   "source": [
    "query_data(query)"
   ]
  },
  {
   "cell_type": "code",
   "execution_count": null,
   "id": "e0b5123b",
   "metadata": {},
   "outputs": [],
   "source": [
    "query = \"\"\"\n",
    "    SELECT\n",
    "        bloqueId, voto, COUNT(*) AS cantidad\n",
    "    FROM votaciones_diputados\n",
    "    WHERE bloqueId = (SELECT bloqueId FROM bloques_diputados WHERE bloque = 'Unión por la Patria')\n",
    "        AND asuntoId = (SELECT asuntoID FROM asuntos_diputados WHERE ASUNTO = 'O.D. 7 - Ley de Bases. Votación en particular. TITULO X. ARTS. 228 AL 231.')\n",
    "    GROUP BY bloqueId, voto\n",
    "\"\"\""
   ]
  },
  {
   "cell_type": "code",
   "execution_count": null,
   "id": "32895e71",
   "metadata": {},
   "outputs": [],
   "source": [
    "query_data(query)"
   ]
  },
  {
   "cell_type": "code",
   "execution_count": null,
   "id": "261c91da",
   "metadata": {},
   "outputs": [],
   "source": [
    "query = \"\"\"\n",
    "    SELECT\n",
    "        diputadoId, voto, count(*) AS cantidad\n",
    "    FROM votaciones_diputados\n",
    "    WHERE diputadoId = (SELECT diputadoId FROM legisladores_diputados WHERE nombre = 'MILEI, Javier Gerardo')\n",
    "    GROUP BY diputadoId, voto\n",
    "\"\"\""
   ]
  },
  {
   "cell_type": "code",
   "execution_count": null,
   "id": "cedb3e33",
   "metadata": {},
   "outputs": [],
   "source": [
    "query_data(query)"
   ]
  },
  {
   "cell_type": "markdown",
   "id": "7be72c46",
   "metadata": {},
   "source": [
    "---"
   ]
  },
  {
   "cell_type": "code",
   "execution_count": null,
   "id": "6ac9fa4c",
   "metadata": {},
   "outputs": [],
   "source": [
    "from pydantic_ai import Agent, RunContext\n",
    "from pydantic_ai.settings import ModelSettings\n",
    "\n",
    "from cparla.retriever import Retriever"
   ]
  },
  {
   "cell_type": "code",
   "execution_count": null,
   "id": "5d993283",
   "metadata": {},
   "outputs": [],
   "source": [
    "# Example: conf/llm_agents/deputy_votes_agent.yaml\n",
    "model = \"openai:gpt-4.1-2025-04-14\"\n",
    "max_tokens = 1024\n",
    "temperature = 0.0\n",
    "\n",
    "instructions_template = \"\"\"\n",
    "    You are an expert assistant for answering questions about votes in the Argentine Chamber of Deputies.\n",
    "    You must use the provided tools to answer user queries. Do NOT use your own knowledge or speculate.\n",
    "\n",
    "    ## Tools:\n",
    "    - `retrieve_deputy`: Given a query or a deputy's name, returns possible matches from the \"legisladores_diputados\" collection, including their diputadoId and metadata.\n",
    "    - `query_db`: Executes a SQL query on the database and returns the results.\n",
    "\n",
    "    ## Guidelines:\n",
    "    - For questions about a deputy's votes, first use `retrieve_deputy` to get the correct diputadoId(s).\n",
    "    - Then, use `query_db` to fetch the votes from the \"votaciones_diputados\" table using the diputadoId(s).\n",
    "    - If the query is ambiguous, return all possible matches from `retrieve_deputy`.\n",
    "    - Do NOT answer unless you have used the tools to get the information.\n",
    "    - Respond in your own words, do not refer to the tools or their names in the answer.\n",
    "\n",
    "    ## Example:\n",
    "    - User: \"¿Cuáles fueron los votos de Myriam Bregman?\"\n",
    "    - Steps:\n",
    "        1. Use `retrieve_deputy` with \"Myriam Bregman\" → get diputadoId(s).\n",
    "        2. Use `query_db` with \"SELECT * FROM votaciones_diputados WHERE diputadoId IN (...)\".\n",
    "        3. Summarize the results for the user.\n",
    "\n",
    "    ## Output:\n",
    "    - Provide a clear answer to the user's question, based only on the tool results.\n",
    "    - If no results are found, say so.\n",
    "\n",
    "    ALWAYS respond in Spanish.\n",
    "\"\"\""
   ]
  },
  {
   "cell_type": "code",
   "execution_count": null,
   "id": "685c3717",
   "metadata": {},
   "outputs": [],
   "source": [
    "diputados_agent = Agent(\n",
    "    model=model,\n",
    "    # output_type=output_type,\n",
    "    # deps_type=deps_type,\n",
    "    name=\"Diputados Votes Agent\",\n",
    "    model_settings=ModelSettings(max_tokens=max_tokens, temperature=temperature),\n",
    "    retries=1,\n",
    "    # tools=tools,\n",
    "    # mcp_servers=mcp_servers,  # type: ignore\n",
    "    # history_processors=history_processors,\n",
    ")"
   ]
  },
  {
   "cell_type": "code",
   "execution_count": null,
   "id": "061d1a16",
   "metadata": {},
   "outputs": [],
   "source": [
    "from functools import lru_cache\n",
    "from langchain_openai import OpenAIEmbeddings\n",
    "\n",
    "\n",
    "@lru_cache()\n",
    "def get_openai_embeddings(\n",
    "    model: str = \"text-embedding-3-large\",\n",
    "    dimensions: int = 256,\n",
    ") -> OpenAIEmbeddings:\n",
    "    return OpenAIEmbeddings(\n",
    "        model=model,\n",
    "        dimensions=dimensions,\n",
    "    )\n",
    "\n",
    "\n",
    "dense_embeddings = get_openai_embeddings()\n",
    "dense_embeddings"
   ]
  },
  {
   "cell_type": "code",
   "execution_count": null,
   "id": "db74c19f",
   "metadata": {},
   "outputs": [],
   "source": [
    "retriever = Retriever(dense_embeddings=dense_embeddings)"
   ]
  },
  {
   "cell_type": "code",
   "execution_count": null,
   "id": "2f5f746b",
   "metadata": {},
   "outputs": [],
   "source": [
    "@diputados_agent.tool\n",
    "async def retrieve_deputy(\n",
    "    ctx: RunContext,\n",
    "    query: str,\n",
    "    collection_name: str = \"legisladores-diputados\",\n",
    ") -> list[dict]:\n",
    "    \"\"\"\n",
    "    Uses the embedding retriever to find deputies matching the query.\n",
    "    Returns a list of dicts with at least 'diputadoId', 'nombre', and other metadata.\n",
    "    \"\"\"\n",
    "    # Example using your Retriever class\n",
    "    results = await retriever.hybrid_search(\n",
    "        collection_name=collection_name,\n",
    "        query=query,\n",
    "        k=10,\n",
    "    )\n",
    "\n",
    "    return results"
   ]
  },
  {
   "cell_type": "code",
   "execution_count": null,
   "id": "d459d48e",
   "metadata": {},
   "outputs": [],
   "source": [
    "@diputados_agent.tool\n",
    "def query_db(\n",
    "    ctx: RunContext,\n",
    "    sql: str,\n",
    ") -> list[dict]:\n",
    "    \"\"\"\n",
    "    Executes a SQL query on the database and returns the results as a list of dictionaries.\n",
    "    \"\"\"\n",
    "    return query_data(sql)"
   ]
  },
  {
   "cell_type": "code",
   "execution_count": null,
   "id": "9823896c",
   "metadata": {},
   "outputs": [],
   "source": [
    "await diputados_agent.run(\"¿Cuáles fueron los votos de Javier Milei?\")"
   ]
  },
  {
   "cell_type": "code",
   "execution_count": null,
   "id": "bdd25a09",
   "metadata": {},
   "outputs": [],
   "source": [
    "import logfire\n",
    "\n",
    "logfire.configure(service_name=\"modulo-consultas-parlamentarias\")\n",
    "_ = logfire.instrument_pydantic_ai()\n",
    "_ = logfire.instrument_openai()"
   ]
  },
  {
   "cell_type": "code",
   "execution_count": null,
   "id": "56be31f9",
   "metadata": {},
   "outputs": [],
   "source": [
    "await diputados_agent.run(\"¿Cuáles fueron los votos de Javier Milei?\")"
   ]
  },
  {
   "cell_type": "markdown",
   "id": "22539b6b",
   "metadata": {},
   "source": [
    "---"
   ]
  },
  {
   "cell_type": "code",
   "execution_count": null,
   "id": "61da5c86",
   "metadata": {},
   "outputs": [],
   "source": [
    "# Example: conf/llm_agents/deputy_votes_agent.yaml\n",
    "model = \"openai:gpt-4.1-2025-04-14\"\n",
    "max_tokens = 1024\n",
    "temperature = 0.0\n",
    "\n",
    "instructions_template = \"\"\"\n",
    "    You are an expert assistant for answering questions about votes in the Argentine Chamber of Deputies.\n",
    "    You must use the provided tools to answer user queries. Do NOT use your own knowledge or speculate.\n",
    "\n",
    "    ## Database Schema:\n",
    "    The following tables are available in the database:\n",
    "\n",
    "    - **legisladores_diputados**\n",
    "        - diputadoId (INTEGER)\n",
    "        - nombre (TEXT)\n",
    "        - distrito (TEXT)\n",
    "        - sexo (TEXT)\n",
    "        - imagen (TEXT)\n",
    "\n",
    "    - **votaciones_diputados**\n",
    "        - asuntoId (INTEGER)\n",
    "        - diputadoId (INTEGER)\n",
    "        - bloqueId (INTEGER)\n",
    "        - voto (TEXT)\n",
    "\n",
    "    - **asuntos_diputados**\n",
    "        - asuntoId (INTEGER)\n",
    "        - sesion (TEXT)\n",
    "        - asunto (TEXT)\n",
    "        - ano (INTEGER)\n",
    "        - fecha (TEXT)\n",
    "        - hora (TEXT)\n",
    "        - base (TEXT)\n",
    "        - mayoria (TEXT)\n",
    "        - resultado (TEXT)\n",
    "        - presidente (TEXT)\n",
    "        - presentes (INTEGER)\n",
    "        - ausentes (INTEGER)\n",
    "        - abstenciones (INTEGER)\n",
    "        - afirmativos (INTEGER)\n",
    "        - negativos (INTEGER)\n",
    "        - votopresidente (TEXT)\n",
    "        - titulo (TEXT)\n",
    "        - auditoria (TEXT)\n",
    "\n",
    "    - **bloques_diputados**\n",
    "        - bloqueId (INTEGER)\n",
    "        - bloque (TEXT)\n",
    "        - color (TEXT)\n",
    "\n",
    "    ## Tools:\n",
    "    - `retrieve_deputy`: Given a query or a deputy's name, returns possible matches from the \"legisladores_diputados\" collection, including their diputadoId and metadata.\n",
    "    - `query_db`: Executes a SQL query on the database and returns the results.\n",
    "\n",
    "    ## Guidelines:\n",
    "    - For questions about a deputy's votes, first use `retrieve_deputy` to get the correct diputadoId(s).\n",
    "    - Then, use `query_db` to fetch the votes from the \"votaciones_diputados\" table using the diputadoId(s).\n",
    "    - Use only the tables and columns listed above. Do NOT invent table or column names.\n",
    "    - If the query is ambiguous, return all possible matches from `retrieve_deputy`.\n",
    "    - Do NOT answer unless you have used the tools to get the information.\n",
    "    - Respond in your own words, do not refer to the tools or their names in the answer.\n",
    "\n",
    "    ## Example:\n",
    "    - User: \"¿Cuáles fueron los votos de Myriam Bregman?\"\n",
    "    - Steps:\n",
    "        1. Use `retrieve_deputy` with \"Myriam Bregman\" → get diputadoId(s).\n",
    "        2. Use `query_db` with \"SELECT * FROM votaciones_diputados WHERE diputadoId IN (...)\".\n",
    "        3. Summarize the results for the user.\n",
    "\n",
    "    ALWAYS respond in Spanish.\n",
    "\"\"\""
   ]
  },
  {
   "cell_type": "code",
   "execution_count": null,
   "id": "57f99732",
   "metadata": {},
   "outputs": [],
   "source": [
    "diputados_agent = Agent(\n",
    "    model=model,\n",
    "    # output_type=output_type,\n",
    "    # deps_type=deps_type,\n",
    "    instructions=instructions_template,\n",
    "    name=\"Diputados Votes Agent\",\n",
    "    model_settings=ModelSettings(max_tokens=max_tokens, temperature=temperature),\n",
    "    retries=1,\n",
    "    # tools=tools,\n",
    "    # mcp_servers=mcp_servers,  # type: ignore\n",
    "    # history_processors=history_processors,\n",
    ")"
   ]
  },
  {
   "cell_type": "code",
   "execution_count": null,
   "id": "4adc0474",
   "metadata": {},
   "outputs": [],
   "source": [
    "from functools import lru_cache\n",
    "from langchain_openai import OpenAIEmbeddings\n",
    "\n",
    "\n",
    "@lru_cache()\n",
    "def get_openai_embeddings(\n",
    "    model: str = \"text-embedding-3-large\",\n",
    "    dimensions: int = 256,\n",
    ") -> OpenAIEmbeddings:\n",
    "    return OpenAIEmbeddings(\n",
    "        model=model,\n",
    "        dimensions=dimensions,\n",
    "    )\n",
    "\n",
    "\n",
    "dense_embeddings = get_openai_embeddings()\n",
    "dense_embeddings"
   ]
  },
  {
   "cell_type": "code",
   "execution_count": null,
   "id": "b7a0a92d",
   "metadata": {},
   "outputs": [],
   "source": [
    "retriever = Retriever(dense_embeddings=dense_embeddings)"
   ]
  },
  {
   "cell_type": "code",
   "execution_count": null,
   "id": "712a154f",
   "metadata": {},
   "outputs": [],
   "source": [
    "@diputados_agent.tool\n",
    "async def retrieve_deputy(\n",
    "    ctx: RunContext,\n",
    "    query: str,\n",
    "    collection_name: str = \"legisladores-diputados\",\n",
    ") -> list[dict]:\n",
    "    \"\"\"\n",
    "    Uses the embedding retriever to find deputies matching the query.\n",
    "    Returns a list of dicts with at least 'diputadoId', 'nombre', and other metadata.\n",
    "    \"\"\"\n",
    "    # Example using your Retriever class\n",
    "    results = await retriever.hybrid_search(\n",
    "        collection_name=collection_name,\n",
    "        query=query,\n",
    "        k=10,\n",
    "    )\n",
    "\n",
    "    return results"
   ]
  },
  {
   "cell_type": "code",
   "execution_count": null,
   "id": "cceec803",
   "metadata": {},
   "outputs": [],
   "source": [
    "@diputados_agent.tool\n",
    "def query_db(\n",
    "    ctx: RunContext,\n",
    "    sql: str,\n",
    ") -> list[dict]:\n",
    "    \"\"\"\n",
    "    Executes a SQL query on the database and returns the results as a list of dictionaries.\n",
    "    \"\"\"\n",
    "    return query_data(sql)"
   ]
  },
  {
   "cell_type": "code",
   "execution_count": null,
   "id": "40b4262a",
   "metadata": {},
   "outputs": [],
   "source": [
    "await diputados_agent.run(\"¿Cuáles fueron los votos de Javier Milei?\")"
   ]
  },
  {
   "cell_type": "code",
   "execution_count": null,
   "id": "19166267",
   "metadata": {},
   "outputs": [],
   "source": [
    "query = \"\"\"\n",
    "    SELECT\n",
    "        vd.voto, ad.titulo, ad.fecha\n",
    "    FROM votaciones_diputados vd\n",
    "    JOIN asuntos_diputados ad ON vd.asuntoId = ad.asuntoId\n",
    "    WHERE vd.diputadoId = 1877 ORDER BY ad.fecha DESC\n",
    "\"\"\""
   ]
  },
  {
   "cell_type": "code",
   "execution_count": null,
   "id": "8558724a",
   "metadata": {},
   "outputs": [],
   "source": [
    "results = pd.DataFrame(query_data(query))\n",
    "results"
   ]
  },
  {
   "cell_type": "code",
   "execution_count": null,
   "id": "b160fc63",
   "metadata": {},
   "outputs": [],
   "source": [
    "result = await diputados_agent.run(\"¿Cuáles fueron los votos de Javier Milei?\")\n",
    "result"
   ]
  },
  {
   "cell_type": "code",
   "execution_count": null,
   "id": "3c6438c0",
   "metadata": {},
   "outputs": [],
   "source": [
    "# query = \"¿Cuáles fueron los votos de Javier Milei?\"\n",
    "print(result.output)"
   ]
  },
  {
   "cell_type": "code",
   "execution_count": null,
   "id": "ce2117d7",
   "metadata": {},
   "outputs": [],
   "source": [
    "results.iloc[85][\"titulo\"]"
   ]
  },
  {
   "cell_type": "code",
   "execution_count": null,
   "id": "e1679113",
   "metadata": {},
   "outputs": [],
   "source": [
    "results[\"fecha\"] = pd.to_datetime(results[\"fecha\"], format=\"mixed\")\n",
    "results.loc[results[\"voto\"] == \"AFIRMATIVO\"].sort_values(by=\"fecha\", ascending=False)"
   ]
  },
  {
   "cell_type": "code",
   "execution_count": null,
   "id": "c7cca859",
   "metadata": {},
   "outputs": [],
   "source": [
    "result = await diputados_agent.run(\n",
    "    \"¿Podrás indicarme el resumen de los votos de Javier Milei, indicando la cantidad de votos afirmativos, negativos, abstenciones y ausencias?\"\n",
    ")"
   ]
  },
  {
   "cell_type": "code",
   "execution_count": null,
   "id": "ef0057a0",
   "metadata": {},
   "outputs": [],
   "source": [
    "# query = \"¿Podrás indicarme el resumen de los votos de Javier Milei, indicando la cantidad de votos afirmativos, negativos, abstenciones y ausencias?\"\n",
    "print(result.output)"
   ]
  },
  {
   "cell_type": "code",
   "execution_count": null,
   "id": "2adacf69",
   "metadata": {},
   "outputs": [],
   "source": [
    "# Chequeo\n",
    "query = \"\"\"\n",
    "    SELECT\n",
    "        vd.voto, COUNT(*) AS cantidad\n",
    "    FROM votaciones_diputados vd\n",
    "    WHERE vd.diputadoId = 1877\n",
    "    GROUP BY vd.voto\n",
    "\"\"\"\n",
    "\n",
    "pd.DataFrame(query_data(query))"
   ]
  },
  {
   "cell_type": "code",
   "execution_count": null,
   "id": "b6f68f19",
   "metadata": {},
   "outputs": [],
   "source": [
    "# query = \"¿Cuáles fueron los votos de Javier Milei?\"\n",
    "print(result.output)"
   ]
  },
  {
   "cell_type": "code",
   "execution_count": null,
   "id": "45eb2f18",
   "metadata": {},
   "outputs": [],
   "source": [
    "pd.set_option(\"display.max_colwidth\", None)"
   ]
  },
  {
   "cell_type": "code",
   "execution_count": null,
   "id": "90213feb",
   "metadata": {},
   "outputs": [],
   "source": [
    "# Chequeo\n",
    "query = \"\"\"\n",
    "    SELECT\n",
    "        vd.voto, ad.fecha, ad.titulo, ad.asunto\n",
    "    FROM votaciones_diputados vd\n",
    "    LEFT JOIN asuntos_diputados ad ON vd.asuntoId = ad.asuntoId\n",
    "    WHERE vd.diputadoId = 1877 AND vd.voto = 'NEGATIVO'\n",
    "\"\"\"\n",
    "\n",
    "result = pd.DataFrame(query_data(query))\n",
    "result[\"fecha\"] = pd.to_datetime(result[\"fecha\"], format=\"mixed\")\n",
    "result.sort_values(by=[\"fecha\", \"asunto\"], ascending=[False, True])[[\"fecha\", \"titulo\"]]"
   ]
  },
  {
   "cell_type": "code",
   "execution_count": null,
   "id": "99607f40",
   "metadata": {},
   "outputs": [],
   "source": [
    "result.groupby(\"fecha\").size().sort_index()"
   ]
  },
  {
   "cell_type": "code",
   "execution_count": null,
   "id": "cff857f7",
   "metadata": {},
   "outputs": [],
   "source": [
    "votos_milei = pd.read_csv(\n",
    "    \"/resources/data/Estadística - MILEI, JAVIER GERARDO - Total.csv\"\n",
    ")\n",
    "votos_milei"
   ]
  },
  {
   "cell_type": "code",
   "execution_count": null,
   "id": "0a1b55ec",
   "metadata": {},
   "outputs": [],
   "source": [
    "votos_milei[\"fecha\"] = pd.to_datetime(votos_milei[\"FECHA\"], format=\"mixed\").dt.date\n",
    "votos_milei.loc[votos_milei[\"¿CÓMO VOTÓ?\"] == \"NEGATIVO\"].groupby(\n",
    "    \"fecha\"\n",
    ").size().sort_index()"
   ]
  },
  {
   "cell_type": "code",
   "execution_count": null,
   "id": "76eed120",
   "metadata": {},
   "outputs": [],
   "source": [
    "result = await diputados_agent.run(\n",
    "    \"¿Podrás indicarme el resumen de los votos de José Luis Espert, desglosando la cantidad de votos afirmativos, negativos, abstenciones y ausencias?\"\n",
    ")"
   ]
  },
  {
   "cell_type": "code",
   "execution_count": null,
   "id": "c0f62549",
   "metadata": {},
   "outputs": [],
   "source": [
    "print(result.output)"
   ]
  },
  {
   "cell_type": "code",
   "execution_count": null,
   "id": "b6a26d8d",
   "metadata": {},
   "outputs": [],
   "source": [
    "result = await diputados_agent.run(\n",
    "    \"¿Podrás indicarme el resumen de los votos de vICTORIA ViLLARUEKL, desglosando la cantidad de votos afirmativos, negativos, abstenciones y ausencias?\"\n",
    ")"
   ]
  },
  {
   "cell_type": "code",
   "execution_count": null,
   "id": "d2e9d4ed",
   "metadata": {},
   "outputs": [],
   "source": [
    "print(result.output)"
   ]
  },
  {
   "cell_type": "code",
   "execution_count": null,
   "id": "5a5497d6",
   "metadata": {},
   "outputs": [],
   "source": []
  }
 ],
 "metadata": {
  "kernelspec": {
   "display_name": "Python 3",
   "language": "python",
   "name": "python3"
  },
  "language_info": {
   "codemirror_mode": {
    "name": "ipython",
    "version": 3
   },
   "file_extension": ".py",
   "mimetype": "text/x-python",
   "name": "python",
   "nbconvert_exporter": "python",
   "pygments_lexer": "ipython3",
   "version": "3.12.3"
  }
 },
 "nbformat": 4,
 "nbformat_minor": 5
}
