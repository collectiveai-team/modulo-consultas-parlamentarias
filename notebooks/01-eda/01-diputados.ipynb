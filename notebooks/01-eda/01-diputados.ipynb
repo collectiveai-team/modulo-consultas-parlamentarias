{
 "cells": [
  {
   "cell_type": "code",
   "execution_count": null,
   "id": "63fb21a7",
   "metadata": {},
   "outputs": [],
   "source": [
    "import os\n",
    "import pandas as pd"
   ]
  },
  {
   "cell_type": "code",
   "execution_count": null,
   "id": "eec0c531",
   "metadata": {},
   "outputs": [],
   "source": [
    "DATA_DIR = \"/resources/data/DecadaVotadaCSV\""
   ]
  },
  {
   "cell_type": "code",
   "execution_count": null,
   "id": "c07da421",
   "metadata": {},
   "outputs": [],
   "source": [
    "csv_files = [f for f in os.listdir(DATA_DIR) if f.endswith(\".csv\")]\n",
    "sorted(csv_files)"
   ]
  },
  {
   "cell_type": "markdown",
   "id": "aa015e85",
   "metadata": {},
   "source": [
    "## Diputados"
   ]
  },
  {
   "cell_type": "markdown",
   "id": "100b9f97",
   "metadata": {},
   "source": [
    "### Asuntos"
   ]
  },
  {
   "cell_type": "code",
   "execution_count": null,
   "id": "2cf78ea0",
   "metadata": {},
   "outputs": [],
   "source": [
    "asuntos_diputados = pd.read_csv(\n",
    "    os.path.join(DATA_DIR, \"asuntos-diputados.csv\"), sep=\";\"\n",
    ")"
   ]
  },
  {
   "cell_type": "code",
   "execution_count": null,
   "id": "4538251b",
   "metadata": {},
   "outputs": [],
   "source": [
    "asuntos_diputados.sample(5)"
   ]
  },
  {
   "cell_type": "code",
   "execution_count": null,
   "id": "0c1a81c8",
   "metadata": {},
   "outputs": [],
   "source": [
    "asuntos_diputados.info()"
   ]
  },
  {
   "cell_type": "code",
   "execution_count": null,
   "id": "d9dd3851",
   "metadata": {},
   "outputs": [],
   "source": [
    "# Eliminamos las variables vacías\n",
    "asuntos_diputados = asuntos_diputados.dropna(axis=1, how=\"all\")\n",
    "asuntos_diputados.info()"
   ]
  },
  {
   "cell_type": "code",
   "execution_count": null,
   "id": "55b872ea",
   "metadata": {},
   "outputs": [],
   "source": [
    "# Verificamos que asuntoId es único\n",
    "assert asuntos_diputados[\"asuntoId\"].nunique() == len(asuntos_diputados)"
   ]
  },
  {
   "cell_type": "code",
   "execution_count": null,
   "id": "1b727dd1",
   "metadata": {},
   "outputs": [],
   "source": [
    "categorical_columns = asuntos_diputados.select_dtypes(\n",
    "    include=\"object\"\n",
    ").columns.tolist()\n",
    "categorical_columns"
   ]
  },
  {
   "cell_type": "code",
   "execution_count": null,
   "id": "8b2d8bae",
   "metadata": {},
   "outputs": [],
   "source": [
    "def explore_variable(df: pd.DataFrame, column: str, top_n: int = 20):\n",
    "    print(f\"Explorando la variable '{column}':\")\n",
    "    print(f\"- Cantidad de valores únicos: {df[column].nunique()}\")\n",
    "    print(f\"- Valores más frecuentes:\")\n",
    "    display(df[column].value_counts().head(top_n))"
   ]
  },
  {
   "cell_type": "code",
   "execution_count": null,
   "id": "b05d4afb",
   "metadata": {},
   "outputs": [],
   "source": [
    "for col in categorical_columns:\n",
    "    explore_variable(asuntos_diputados, col)"
   ]
  },
  {
   "cell_type": "code",
   "execution_count": null,
   "id": "d62f88a4",
   "metadata": {},
   "outputs": [],
   "source": [
    "asuntos_diputados.loc[\n",
    "    (asuntos_diputados[\"sesion\"].str.startswith(\"142\"))\n",
    "    & (asuntos_diputados[\"titulo\"].str.contains(\"2643\"))\n",
    "]"
   ]
  },
  {
   "cell_type": "markdown",
   "id": "264436f5",
   "metadata": {},
   "source": [
    "### Bloques"
   ]
  },
  {
   "cell_type": "code",
   "execution_count": null,
   "id": "23f29335",
   "metadata": {},
   "outputs": [],
   "source": [
    "bloques_diputados = pd.read_csv(\n",
    "    os.path.join(DATA_DIR, \"bloques-diputados.csv\"), sep=\";\"\n",
    ")"
   ]
  },
  {
   "cell_type": "code",
   "execution_count": null,
   "id": "7a130142",
   "metadata": {},
   "outputs": [],
   "source": [
    "bloques_diputados.sample(5)"
   ]
  },
  {
   "cell_type": "code",
   "execution_count": null,
   "id": "02a78ab6",
   "metadata": {},
   "outputs": [],
   "source": [
    "bloques_diputados.info()"
   ]
  },
  {
   "cell_type": "code",
   "execution_count": null,
   "id": "75c767e0",
   "metadata": {},
   "outputs": [],
   "source": [
    "# Verificamos que bloqueId es único\n",
    "assert bloques_diputados[\"bloqueId\"].nunique() == len(bloques_diputados)"
   ]
  },
  {
   "cell_type": "code",
   "execution_count": null,
   "id": "59aa011d",
   "metadata": {},
   "outputs": [],
   "source": [
    "# Exploramos la cantidad de bloques únicos\n",
    "bloques_diputados[\"bloque\"].nunique()"
   ]
  },
  {
   "cell_type": "code",
   "execution_count": null,
   "id": "e6363ac6",
   "metadata": {},
   "outputs": [],
   "source": [
    "# Identificamos los bloques repetidos\n",
    "bloques_diputados.loc[\n",
    "    bloques_diputados[\"bloque\"].duplicated(keep=False)\n",
    "].sort_values([\"bloque\", \"bloqueId\"])"
   ]
  },
  {
   "cell_type": "code",
   "execution_count": null,
   "id": "106adc76",
   "metadata": {},
   "outputs": [],
   "source": [
    "# Exploramos valores nulos\n",
    "bloques_diputados.loc[bloques_diputados.isna().any(axis=1)]"
   ]
  },
  {
   "cell_type": "markdown",
   "id": "68dc6a79",
   "metadata": {},
   "source": [
    "### Diputados"
   ]
  },
  {
   "cell_type": "code",
   "execution_count": null,
   "id": "5a02215e",
   "metadata": {},
   "outputs": [],
   "source": [
    "diputados = pd.read_csv(\n",
    "    os.path.join(DATA_DIR, \"diputados-diputados.csv\"), sep=\";\"\n",
    ")"
   ]
  },
  {
   "cell_type": "code",
   "execution_count": null,
   "id": "edbad575",
   "metadata": {},
   "outputs": [],
   "source": [
    "diputados.sample(5)"
   ]
  },
  {
   "cell_type": "code",
   "execution_count": null,
   "id": "3888964b",
   "metadata": {},
   "outputs": [],
   "source": [
    "diputados.info()"
   ]
  },
  {
   "cell_type": "code",
   "execution_count": null,
   "id": "e4a58922",
   "metadata": {},
   "outputs": [],
   "source": [
    "# Verificamos que diputadoId es único\n",
    "assert diputados[\"diputadoId\"].nunique() == len(diputados)"
   ]
  },
  {
   "cell_type": "code",
   "execution_count": null,
   "id": "d9d7ff33",
   "metadata": {},
   "outputs": [],
   "source": [
    "# Exploramos la cantidad de diputados únicos\n",
    "diputados[\"nombre\"].nunique()"
   ]
  },
  {
   "cell_type": "code",
   "execution_count": null,
   "id": "4d4db7d5",
   "metadata": {},
   "outputs": [],
   "source": [
    "# Buscamos nombres repetidos\n",
    "diputados.loc[diputados[\"nombre\"].duplicated(keep=False)].sort_values(\"nombre\")"
   ]
  },
  {
   "cell_type": "code",
   "execution_count": null,
   "id": "473a1fae",
   "metadata": {},
   "outputs": [],
   "source": [
    "diputados.loc[diputados[\"nombre\"].duplicated(keep=False)].sort_values(\n",
    "    \"nombre\"\n",
    ").shape[0]"
   ]
  },
  {
   "cell_type": "code",
   "execution_count": null,
   "id": "bcac9472",
   "metadata": {},
   "outputs": [],
   "source": [
    "diputados.loc[\n",
    "    (diputados[\"nombre\"].duplicated(keep=False))\n",
    "    & (diputados[\"imagen\"].duplicated(keep=False))\n",
    "].sort_values([\"nombre\", \"diputadoId\"])"
   ]
  },
  {
   "cell_type": "code",
   "execution_count": null,
   "id": "cb18eb36",
   "metadata": {},
   "outputs": [],
   "source": [
    "duplicados = set(\n",
    "    diputados.loc[\n",
    "        (diputados[\"nombre\"].duplicated(keep=False))\n",
    "        & (diputados[\"imagen\"].duplicated(keep=False)),\n",
    "        \"diputadoId\",\n",
    "    ]\n",
    ")"
   ]
  },
  {
   "cell_type": "code",
   "execution_count": null,
   "id": "7677a109",
   "metadata": {},
   "outputs": [],
   "source": [
    "len(duplicados)"
   ]
  },
  {
   "cell_type": "code",
   "execution_count": null,
   "id": "dfbfb4df",
   "metadata": {},
   "outputs": [],
   "source": [
    "# Verificamos que los nombres repetidos se corresponden con imágenes iguales\n",
    "duplicados_nombre_imagen = set(\n",
    "    diputados.loc[\n",
    "        (diputados[\"nombre\"].duplicated(keep=False))\n",
    "        & (diputados[\"imagen\"].duplicated(keep=False)),\n",
    "        \"diputadoId\",\n",
    "    ]\n",
    ")\n",
    "\n",
    "assert not duplicados_nombre_imagen.symmetric_difference(duplicados)"
   ]
  },
  {
   "cell_type": "code",
   "execution_count": null,
   "id": "fb994c2b",
   "metadata": {},
   "outputs": [],
   "source": [
    "# Exploramos si existen otros casos que comiencen con \"#\"\n",
    "diputados.loc[diputados[\"nombre\"].str.startswith(\"#\")]"
   ]
  },
  {
   "cell_type": "code",
   "execution_count": null,
   "id": "693da738",
   "metadata": {},
   "outputs": [],
   "source": [
    "# Exploramos los distintos distritos\n",
    "diputados[\"distrito\"].nunique()"
   ]
  },
  {
   "cell_type": "code",
   "execution_count": null,
   "id": "28ed628b",
   "metadata": {},
   "outputs": [],
   "source": [
    "diputados[\"distrito\"].value_counts()"
   ]
  },
  {
   "cell_type": "markdown",
   "id": "925e1910",
   "metadata": {},
   "source": [
    "### Votaciones"
   ]
  },
  {
   "cell_type": "code",
   "execution_count": null,
   "id": "916ad3bd",
   "metadata": {},
   "outputs": [],
   "source": [
    "votaciones_diputados = pd.read_csv(\n",
    "    os.path.join(DATA_DIR, \"votaciones-diputados.csv\"), sep=\";\"\n",
    ")"
   ]
  },
  {
   "cell_type": "code",
   "execution_count": null,
   "id": "100a1a2e",
   "metadata": {},
   "outputs": [],
   "source": [
    "votaciones_diputados.sample(5)"
   ]
  },
  {
   "cell_type": "code",
   "execution_count": null,
   "id": "93062745",
   "metadata": {},
   "outputs": [],
   "source": [
    "votaciones_diputados.info()"
   ]
  },
  {
   "cell_type": "code",
   "execution_count": null,
   "id": "0d1a90e9",
   "metadata": {},
   "outputs": [],
   "source": [
    "votaciones_diputados[\"voto\"].value_counts().sort_index()"
   ]
  },
  {
   "cell_type": "code",
   "execution_count": null,
   "id": "4b7d688b",
   "metadata": {},
   "outputs": [],
   "source": [
    "voto_4_diputados = votaciones_diputados.loc[\n",
    "    votaciones_diputados[\"voto\"] == 4, \"diputadoId\"\n",
    "].unique()"
   ]
  },
  {
   "cell_type": "code",
   "execution_count": null,
   "id": "a3b0eb71",
   "metadata": {},
   "outputs": [],
   "source": [
    "diputados.loc[diputados[\"diputadoId\"].isin(voto_4_diputados)].sort_values(\n",
    "    \"diputadoId\"\n",
    ")"
   ]
  },
  {
   "cell_type": "code",
   "execution_count": null,
   "id": "0925ddf8",
   "metadata": {},
   "outputs": [],
   "source": [
    "votaciones_diputados.loc[votaciones_diputados[\"bloqueId\"] == 479]"
   ]
  },
  {
   "cell_type": "code",
   "execution_count": null,
   "id": "0261cc06",
   "metadata": {},
   "outputs": [],
   "source": [
    "votaciones_diputados.loc[votaciones_diputados[\"diputadoId\"] == 233]"
   ]
  },
  {
   "cell_type": "code",
   "execution_count": null,
   "id": "68018d5e",
   "metadata": {},
   "outputs": [],
   "source": [
    "votaciones_diputados.loc[votaciones_diputados[\"diputadoId\"] == 2035]"
   ]
  },
  {
   "cell_type": "code",
   "execution_count": null,
   "id": "1107efeb",
   "metadata": {},
   "outputs": [],
   "source": [
    "import os\n",
    "import sqlite3"
   ]
  },
  {
   "cell_type": "code",
   "execution_count": null,
   "id": "b25c8175",
   "metadata": {},
   "outputs": [],
   "source": [
    "# Definir la ruta de la base de datos local\n",
    "db_path = \"/resources/db\"\n",
    "\n",
    "if not os.path.exists(db_path):\n",
    "    os.makedirs(db_path)\n",
    "\n",
    "# Crear la base de datos y una conexión de prueba\n",
    "conn = sqlite3.connect(os.path.join(db_path, \"data.db\"))\n",
    "print(f\"Base de datos SQLite creada en: {os.path.join(db_path, 'data.db')}\")\n",
    "conn.close()"
   ]
  },
  {
   "cell_type": "code",
   "execution_count": null,
   "id": "eac4aaca",
   "metadata": {},
   "outputs": [],
   "source": [
    "import pandas as pd\n",
    "import sqlite3\n",
    "import os\n",
    "\n",
    "# Definir rutas\n",
    "DATA_DIR = \"/resources/data/DecadaVotadaCSV\"\n",
    "DB_PATH = \"/resources/db/data.db\"\n",
    "\n",
    "# Mapear archivos CSV a nombres de tabla\n",
    "csv_to_table = {\n",
    "    \"asuntos-diputados.csv\": \"asuntos_diputados\",\n",
    "    \"bloques-diputados.csv\": \"bloques_diputados\",\n",
    "    \"diputados-diputados.csv\": \"legisladores_diputados\",\n",
    "    \"votaciones-diputados.csv\": \"votaciones_diputados\",\n",
    "}\n",
    "\n",
    "# Conectar a la base de datos\n",
    "conn = sqlite3.connect(DB_PATH)\n",
    "\n",
    "for csv_file, table_name in csv_to_table.items():\n",
    "    df = pd.read_csv(os.path.join(DATA_DIR, csv_file), sep=\";\")\n",
    "    df.to_sql(table_name, conn, if_exists=\"replace\", index=False)\n",
    "    print(f\"Tabla '{table_name}' creada con {len(df)} filas.\")\n",
    "\n",
    "conn.close()"
   ]
  },
  {
   "cell_type": "code",
   "execution_count": null,
   "id": "7cc0f65f",
   "metadata": {},
   "outputs": [],
   "source": [
    "voto_map = {\n",
    "    0: \"AFIRMATIVO\",\n",
    "    1: \"NEGATIVO\",\n",
    "    2: \"ABSTENCION\",\n",
    "    3: \"AUSENTE\",\n",
    "    4: \"PRESIDENTE\",\n",
    "}\n",
    "\n",
    "votaciones_diputados[\"voto\"] = votaciones_diputados[\"voto\"].map(voto_map)\n",
    "votaciones_diputados[\"voto\"].head()"
   ]
  },
  {
   "cell_type": "code",
   "execution_count": null,
   "id": "efa703c1",
   "metadata": {},
   "outputs": [],
   "source": [
    "import sqlite3\n",
    "\n",
    "DB_PATH = \"/resources/db/data.db\"\n",
    "\n",
    "with sqlite3.connect(DB_PATH) as conn:\n",
    "    votaciones_diputados.to_sql(\n",
    "        \"votaciones_diputados\", conn, if_exists=\"replace\", index=False\n",
    "    )\n",
    "    print(\n",
    "        \"Tabla 'votaciones_diputados' actualizada con los valores de voto mapeados.\"\n",
    "    )"
   ]
  },
  {
   "cell_type": "code",
   "execution_count": null,
   "id": "84a12f6b",
   "metadata": {},
   "outputs": [],
   "source": []
  }
 ],
 "metadata": {
  "kernelspec": {
   "display_name": "Python 3",
   "language": "python",
   "name": "python3"
  },
  "language_info": {
   "codemirror_mode": {
    "name": "ipython",
    "version": 3
   },
   "file_extension": ".py",
   "mimetype": "text/x-python",
   "name": "python",
   "nbconvert_exporter": "python",
   "pygments_lexer": "ipython3",
   "version": "3.12.3"
  }
 },
 "nbformat": 4,
 "nbformat_minor": 5
}
